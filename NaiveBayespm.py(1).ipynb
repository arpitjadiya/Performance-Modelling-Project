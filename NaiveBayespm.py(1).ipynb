{
 "cells": [
  {
   "cell_type": "code",
   "execution_count": 1,
   "metadata": {},
   "outputs": [],
   "source": [
    "from sklearn.datasets import fetch_20newsgroups\n",
    "from sklearn.naive_bayes import MultinomialNB\n",
    "from sklearn.decomposition import NMF, LatentDirichletAllocation\n",
    "from sklearn.feature_extraction.text import CountVectorizer \n",
    "from sklearn.feature_extraction.text import TfidfVectorizer  \n",
    "from sklearn import metrics\n",
    "from sklearn.metrics import accuracy_score, precision_score,recall_score"
   ]
  },
  {
   "cell_type": "code",
   "execution_count": 2,
   "metadata": {},
   "outputs": [
    {
     "name": "stderr",
     "output_type": "stream",
     "text": [
      "Downloading 20news dataset. This may take a few minutes.\n",
      "Downloading dataset from https://ndownloader.figshare.com/files/5975967 (14 MB)\n"
     ]
    }
   ],
   "source": [
    "newsgroups_train = fetch_20newsgroups(subset='train')\n"
   ]
  },
  {
   "cell_type": "code",
   "execution_count": 3,
   "metadata": {},
   "outputs": [
    {
     "name": "stdout",
     "output_type": "stream",
     "text": [
      "['alt.atheism',\n",
      " 'comp.graphics',\n",
      " 'comp.os.ms-windows.misc',\n",
      " 'comp.sys.ibm.pc.hardware',\n",
      " 'comp.sys.mac.hardware',\n",
      " 'comp.windows.x',\n",
      " 'misc.forsale',\n",
      " 'rec.autos',\n",
      " 'rec.motorcycles',\n",
      " 'rec.sport.baseball',\n",
      " 'rec.sport.hockey',\n",
      " 'sci.crypt',\n",
      " 'sci.electronics',\n",
      " 'sci.med',\n",
      " 'sci.space',\n",
      " 'soc.religion.christian',\n",
      " 'talk.politics.guns',\n",
      " 'talk.politics.mideast',\n",
      " 'talk.politics.misc',\n",
      " 'talk.religion.misc']\n"
     ]
    }
   ],
   "source": [
    "from pprint import pprint\n",
    "pprint(list(newsgroups_train.target_names))"
   ]
  },
  {
   "cell_type": "code",
   "execution_count": 4,
   "metadata": {},
   "outputs": [
    {
     "data": {
      "text/plain": [
       "(11314,)"
      ]
     },
     "execution_count": 4,
     "metadata": {},
     "output_type": "execute_result"
    }
   ],
   "source": [
    "newsgroups_train.filenames.shape"
   ]
  },
  {
   "cell_type": "code",
   "execution_count": 5,
   "metadata": {},
   "outputs": [
    {
     "data": {
      "text/plain": [
       "(11314,)"
      ]
     },
     "execution_count": 5,
     "metadata": {},
     "output_type": "execute_result"
    }
   ],
   "source": [
    "newsgroups_train.target.shape\n"
   ]
  },
  {
   "cell_type": "code",
   "execution_count": 6,
   "metadata": {},
   "outputs": [
    {
     "data": {
      "text/plain": [
       "array([ 7,  4,  4,  1, 14, 16, 13,  3,  2,  4])"
      ]
     },
     "execution_count": 6,
     "metadata": {},
     "output_type": "execute_result"
    }
   ],
   "source": [
    "newsgroups_train.target[:10]\n"
   ]
  },
  {
   "cell_type": "code",
   "execution_count": 7,
   "metadata": {},
   "outputs": [],
   "source": [
    "cats = ['alt.atheism', 'sci.space']"
   ]
  },
  {
   "cell_type": "code",
   "execution_count": 8,
   "metadata": {},
   "outputs": [],
   "source": [
    "newsgroups_train = fetch_20newsgroups(subset='train', categories=cats)"
   ]
  },
  {
   "cell_type": "code",
   "execution_count": 9,
   "metadata": {},
   "outputs": [
    {
     "data": {
      "text/plain": [
       "['alt.atheism', 'sci.space']"
      ]
     },
     "execution_count": 9,
     "metadata": {},
     "output_type": "execute_result"
    }
   ],
   "source": [
    "list(newsgroups_train.target_names)\n"
   ]
  },
  {
   "cell_type": "code",
   "execution_count": 10,
   "metadata": {},
   "outputs": [
    {
     "data": {
      "text/plain": [
       "(1073,)"
      ]
     },
     "execution_count": 10,
     "metadata": {},
     "output_type": "execute_result"
    }
   ],
   "source": [
    "newsgroups_train.filenames.shape\n"
   ]
  },
  {
   "cell_type": "code",
   "execution_count": 11,
   "metadata": {},
   "outputs": [
    {
     "data": {
      "text/plain": [
       "(1073,)"
      ]
     },
     "execution_count": 11,
     "metadata": {},
     "output_type": "execute_result"
    }
   ],
   "source": [
    "newsgroups_train.target.shape\n"
   ]
  },
  {
   "cell_type": "code",
   "execution_count": 12,
   "metadata": {},
   "outputs": [
    {
     "data": {
      "text/plain": [
       "array([0, 1, 1, 1, 0, 1, 1, 0, 0, 0])"
      ]
     },
     "execution_count": 12,
     "metadata": {},
     "output_type": "execute_result"
    }
   ],
   "source": [
    "newsgroups_train.target[:10]\n"
   ]
  },
  {
   "cell_type": "code",
   "execution_count": 13,
   "metadata": {},
   "outputs": [
    {
     "data": {
      "text/plain": [
       "(2034, 34118)"
      ]
     },
     "execution_count": 13,
     "metadata": {},
     "output_type": "execute_result"
    }
   ],
   "source": [
    "categories = ['alt.atheism', 'talk.religion.misc', 'comp.graphics', 'sci.space']\n",
    "newsgroups_train = fetch_20newsgroups(subset='train',categories=categories)\n",
    "vectorizer = TfidfVectorizer()\n",
    "vectors = vectorizer.fit_transform(newsgroups_train.data)\n",
    "vectors.shape"
   ]
  },
  {
   "cell_type": "code",
   "execution_count": 14,
   "metadata": {},
   "outputs": [
    {
     "data": {
      "text/plain": [
       "159.0132743362832"
      ]
     },
     "execution_count": 14,
     "metadata": {},
     "output_type": "execute_result"
    }
   ],
   "source": [
    "vectors.nnz / float(vectors.shape[0])   #just to visualize how sparese is our vectors\n"
   ]
  },
  {
   "cell_type": "code",
   "execution_count": 15,
   "metadata": {},
   "outputs": [
    {
     "name": "stdout",
     "output_type": "stream",
     "text": [
      "F1 Score:0.7699517518452172\n",
      "Accuracy:0.7908351810790836\n",
      "Precision:0.774066879616238\n",
      "Recall:0.7683692790737239\n"
     ]
    }
   ],
   "source": [
    "### Naive Bayes\n",
    "\n",
    "newsgroups_train = fetch_20newsgroups(subset='train', remove=('headers', 'footers', 'quotes'),categories=categories)  #Too remove overfittinng                                     \n",
    "vectors = vectorizer.fit_transform(newsgroups_train.data)\n",
    "clf = MultinomialNB(alpha=.01)\n",
    "clf.fit(vectors, newsgroups_train.target)\n",
    "newsgroups_test = fetch_20newsgroups(subset='test', remove=('headers', 'footers', 'quotes'),categories=categories) \n",
    "vectors_test = vectorizer.transform(newsgroups_test.data)\n",
    "pred = clf.predict(vectors_test)\n",
    "print(\"F1 Score:\"+str(metrics.f1_score(newsgroups_test.target, pred, average='macro')))\n",
    "print(\"Accuracy:\"+str(accuracy_score(newsgroups_test.target,pred)))\n",
    "print(\"Precision:\"+str(precision_score(newsgroups_test.target,pred, average='macro')))\n",
    "print(\"Recall:\"+str(recall_score(newsgroups_test.target,pred, average='macro')))"
   ]
  },
  {
   "cell_type": "code",
   "execution_count": 83,
   "metadata": {},
   "outputs": [
    {
     "name": "stderr",
     "output_type": "stream",
     "text": [
      "/usr/lib/python3/dist-packages/sklearn/decomposition/online_lda.py:536: DeprecationWarning: The default value for 'learning_method' will be changed from 'online' to 'batch' in the release 0.20. This warning was introduced in 0.18.\n",
      "  DeprecationWarning)\n"
     ]
    },
    {
     "name": "stdout",
     "output_type": "stream",
     "text": [
      "F1 Score:0.125610085073\n",
      "Accuracy:0.284552845528\n",
      "Precision:0.128295145049\n",
      "Recall:0.244403520676\n"
     ]
    }
   ],
   "source": [
    "### LDA with TF-IDF + Naive Bayes\n",
    "\n",
    "newsgroups_train = fetch_20newsgroups(subset='train', remove=('headers', 'footers', 'quotes'),categories=categories)  #Too remove overfit,categories=categoriestinng                                     \n",
    "tfidf_vectorizer = TfidfVectorizer()\n",
    "\n",
    "vectors = tfidf_vectorizer.fit_transform(newsgroups_train.data)\n",
    "no_topics = 50\n",
    "lda_model = LatentDirichletAllocation(n_components=no_topics, random_state=0)\n",
    "lda_train = lda_model.fit_transform(vectors)\n",
    "\n",
    "clf = MultinomialNB(alpha=.01)\n",
    "clf.fit(lda_train, newsgroups_train.target)\n",
    "\n",
    "\n",
    "newsgroups_test = fetch_20newsgroups(subset='test', remove=('headers', 'footers', 'quotes'),categories=categories) \n",
    "vectors_test = tfidf_vectorizer.transform(newsgroups_test.data)\n",
    "lda_test = lda_model.transform(vectors_test)\n",
    "pred = clf.predict(lda_test)\n",
    "\n",
    "print(\"F1 Score:\"+str(metrics.f1_score(newsgroups_test.target, pred, average='macro')))\n",
    "print(\"Accuracy:\"+str(accuracy_score(newsgroups_test.target,pred)))\n",
    "print(\"Precision:\"+str(precision_score(newsgroups_test.target,pred, average='macro')))\n",
    "print(\"Recall:\"+str(recall_score(newsgroups_test.target,pred, average='macro')))\n"
   ]
  },
  {
   "cell_type": "markdown",
   "metadata": {},
   "source": []
  },
  {
   "cell_type": "code",
   "execution_count": 84,
   "metadata": {},
   "outputs": [
    {
     "name": "stderr",
     "output_type": "stream",
     "text": [
      "/usr/lib/python3/dist-packages/sklearn/decomposition/online_lda.py:536: DeprecationWarning: The default value for 'learning_method' will be changed from 'online' to 'batch' in the release 0.20. This warning was introduced in 0.18.\n",
      "  DeprecationWarning)\n"
     ]
    },
    {
     "name": "stdout",
     "output_type": "stream",
     "text": [
      "F1 Score:0.517358150212\n",
      "Accuracy:0.623059866962\n",
      "Precision:0.727866040722\n",
      "Recall:0.571272492872\n"
     ]
    }
   ],
   "source": [
    "### LDA with Bag of Words + Naive Bayes\n",
    "\n",
    "newsgroups_train = fetch_20newsgroups(subset='train', remove=('headers', 'footers', 'quotes'),categories=categories)  #Too remove overfit,categories=categoriestinng                                     \n",
    "count_vectorizer = CountVectorizer()\n",
    "\n",
    "vectors = count_vectorizer.fit_transform(newsgroups_train.data)\n",
    "no_topics = 50\n",
    "lda_model = LatentDirichletAllocation(n_components=no_topics, random_state=0)\n",
    "lda_train = lda_model.fit_transform(vectors)\n",
    "\n",
    "clf = MultinomialNB(alpha=.01)\n",
    "clf.fit(lda_train, newsgroups_train.target)\n",
    "\n",
    "\n",
    "newsgroups_test = fetch_20newsgroups(subset='test', remove=('headers', 'footers', 'quotes'),categories=categories) \n",
    "vectors_test = count_vectorizer.transform(newsgroups_test.data)\n",
    "lda_test = lda_model.transform(vectors_test)\n",
    "pred = clf.predict(lda_test)\n",
    "\n",
    "print(\"F1 Score:\"+str(metrics.f1_score(newsgroups_test.target, pred, average='macro')))\n",
    "print(\"Accuracy:\"+str(accuracy_score(newsgroups_test.target,pred)))\n",
    "print(\"Precision:\"+str(precision_score(newsgroups_test.target,pred, average='macro')))\n",
    "print(\"Recall:\"+str(recall_score(newsgroups_test.target,pred, average='macro')))"
   ]
  },
  {
   "cell_type": "code",
   "execution_count": 17,
   "metadata": {},
   "outputs": [
    {
     "name": "stdout",
     "output_type": "stream",
     "text": [
      "F1 Score:0.11276473955352032\n",
      "Accuracy:0.29120473022912047\n",
      "Precision:0.07280118255728012\n",
      "Recall:0.25\n"
     ]
    },
    {
     "name": "stderr",
     "output_type": "stream",
     "text": [
      "/home/chandana/.local/lib/python3.5/site-packages/sklearn/metrics/classification.py:1143: UndefinedMetricWarning: F-score is ill-defined and being set to 0.0 in labels with no predicted samples.\n",
      "  'precision', 'predicted', average, warn_for)\n",
      "/home/chandana/.local/lib/python3.5/site-packages/sklearn/metrics/classification.py:1143: UndefinedMetricWarning: Precision is ill-defined and being set to 0.0 in labels with no predicted samples.\n",
      "  'precision', 'predicted', average, warn_for)\n"
     ]
    }
   ],
   "source": [
    "#NMF with TF-IDF and Naive Bayes\n",
    "newsgroups_train = fetch_20newsgroups(subset='train', remove=('headers', 'footers', 'quotes'),categories=categories)  #Too remove overfit,categories=categoriestinng                                     \n",
    "tfidf_vectorizer = TfidfVectorizer()\n",
    "\n",
    "vectors = tfidf_vectorizer.fit_transform(newsgroups_train.data)\n",
    "no_topics = 50\n",
    "nmf_model = NMF(n_components=2, init='random', random_state=0)\n",
    "nmf_train = nmf_model.fit_transform(vectors)\n",
    "\n",
    "clf = MultinomialNB(alpha=.01)\n",
    "clf.fit(nmf_train, newsgroups_train.target)\n",
    "\n",
    "\n",
    "newsgroups_test = fetch_20newsgroups(subset='test', remove=('headers', 'footers', 'quotes'),categories=categories) \n",
    "vectors_test = tfidf_vectorizer.transform(newsgroups_test.data)\n",
    "nmf_test = nmf_model.transform(vectors_test)\n",
    "pred = clf.predict(nmf_test)\n",
    "\n",
    "print(\"F1 Score:\"+str(metrics.f1_score(newsgroups_test.target, pred, average='macro')))\n",
    "print(\"Accuracy:\"+str(accuracy_score(newsgroups_test.target,pred)))\n",
    "print(\"Precision:\"+str(precision_score(newsgroups_test.target,pred, average='macro')))\n",
    "print(\"Recall:\"+str(recall_score(newsgroups_test.target,pred, average='macro')))\n",
    "\n",
    "\n",
    "\n"
   ]
  },
  {
   "cell_type": "code",
   "execution_count": null,
   "metadata": {},
   "outputs": [],
   "source": []
  }
 ],
 "metadata": {
  "kernelspec": {
   "display_name": "Python 3",
   "language": "python",
   "name": "python3"
  },
  "language_info": {
   "codemirror_mode": {
    "name": "ipython",
    "version": 3
   },
   "file_extension": ".py",
   "mimetype": "text/x-python",
   "name": "python",
   "nbconvert_exporter": "python",
   "pygments_lexer": "ipython3",
   "version": "3.5.2"
  }
 },
 "nbformat": 4,
 "nbformat_minor": 2
}
