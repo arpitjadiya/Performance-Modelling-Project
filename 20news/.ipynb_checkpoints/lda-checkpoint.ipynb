{
 "cells": [
  {
   "cell_type": "code",
   "execution_count": 6,
   "metadata": {},
   "outputs": [],
   "source": [
    "from sklearn.datasets import fetch_20newsgroups\n",
    "from sklearn.naive_bayes import MultinomialNB\n",
    "from sklearn.decomposition import NMF, LatentDirichletAllocation\n",
    "from sklearn.decomposition import TruncatedSVD\n",
    "from sklearn.feature_extraction.text import CountVectorizer \n",
    "from sklearn.feature_extraction import text\n",
    "from sklearn.feature_extraction.text import TfidfVectorizer  \n",
    "from sklearn import metrics\n",
    "from sklearn.metrics import accuracy_score, precision_score,recall_score\n",
    "from sklearn.preprocessing import MinMaxScaler"
   ]
  },
  {
   "cell_type": "code",
   "execution_count": 7,
   "metadata": {},
   "outputs": [
    {
     "data": {
      "text/plain": [
       "(2034, 34118)"
      ]
     },
     "execution_count": 7,
     "metadata": {},
     "output_type": "execute_result"
    }
   ],
   "source": [
    "categories = ['alt.atheism', 'talk.religion.misc', 'comp.graphics', 'sci.space']\n",
    "newsgroups_train = fetch_20newsgroups(subset='train',categories=categories)\n",
    "vectorizer = TfidfVectorizer()\n",
    "vectors = vectorizer.fit_transform(newsgroups_train.data)\n",
    "vectors.shape"
   ]
  },
  {
   "cell_type": "code",
   "execution_count": null,
   "metadata": {},
   "outputs": [
    {
     "name": "stderr",
     "output_type": "stream",
     "text": [
      "/usr/lib/python3/dist-packages/sklearn/decomposition/online_lda.py:536: DeprecationWarning: The default value for 'learning_method' will be changed from 'online' to 'batch' in the release 0.20. This warning was introduced in 0.18.\n",
      "  DeprecationWarning)\n"
     ]
    }
   ],
   "source": [
    "### LDA with TF-IDF + Naive Bayes\n",
    "\n",
    "newsgroups_train = fetch_20newsgroups(subset='train', remove=('headers', 'footers', 'quotes'),categories=categories)                      \n",
    "tfidf_vectorizer = TfidfVectorizer(max_df=0.5, max_features=10000,\n",
    "                             min_df=2, stop_words='english',\n",
    "                             use_idf=True)\n",
    "\n",
    "vectors = tfidf_vectorizer.fit_transform(newsgroups_train.data)\n",
    "no_topics = 50\n",
    "lda_model = LatentDirichletAllocation(n_components=no_topics, random_state=0)\n",
    "lda_train = lda_model.fit_transform(vectors)\n",
    "\n",
    "clf = MultinomialNB(alpha=.01)\n",
    "clf.fit(lda_train, newsgroups_train.target)\n",
    "\n",
    "\n",
    "newsgroups_test = fetch_20newsgroups(subset='test', remove=('headers', 'footers', 'quotes'),categories=categories) \n",
    "vectors_test = tfidf_vectorizer.transform(newsgroups_test.data)\n",
    "lda_test = lda_model.transform(vectors_test)\n",
    "pred = clf.predict(lda_test)\n",
    "\n",
    "print(\"F1 Score:\"+str(metrics.f1_score(newsgroups_test.target, pred, average='macro')))\n",
    "print(\"Accuracy:\"+str(accuracy_score(newsgroups_test.target,pred)))\n",
    "print(\"Precision:\"+str(precision_score(newsgroups_test.target,pred, average='macro')))\n",
    "print(\"Recall:\"+str(recall_score(newsgroups_test.target,pred, average='macro')))"
   ]
  },
  {
   "cell_type": "code",
   "execution_count": null,
   "metadata": {},
   "outputs": [],
   "source": [
    "### LDA with Bag of Words + Naive Bayes\n",
    "\n",
    "newsgroups_train = fetch_20newsgroups(subset='train', remove=('headers', 'footers', 'quotes'),categories=categories)                                   \n",
    "count_vectorizer = CountVectorizer(max_df=0.5, max_features=10000,\n",
    "                             min_df=2, stop_words='english')\n",
    "\n",
    "vectors = count_vectorizer.fit_transform(newsgroups_train.data)\n",
    "no_topics = 50\n",
    "lda_model = LatentDirichletAllocation(n_components=no_topics, random_state=0)\n",
    "lda_train = lda_model.fit_transform(vectors)\n",
    "\n",
    "clf = MultinomialNB(alpha=.01)\n",
    "clf.fit(lda_train, newsgroups_train.target)\n",
    "\n",
    "\n",
    "newsgroups_test = fetch_20newsgroups(subset='test', remove=('headers', 'footers', 'quotes'),categories=categories) \n",
    "vectors_test = count_vectorizer.transform(newsgroups_test.data)\n",
    "lda_test = lda_model.transform(vectors_test)\n",
    "pred = clf.predict(lda_test)\n",
    "\n",
    "print(\"F1 Score:\"+str(metrics.f1_score(newsgroups_test.target, pred, average='macro')))\n",
    "print(\"Accuracy:\"+str(accuracy_score(newsgroups_test.target,pred)))\n",
    "print(\"Precision:\"+str(precision_score(newsgroups_test.target,pred, average='macro')))\n",
    "print(\"Recall:\"+str(recall_score(newsgroups_test.target,pred, average='macro')))"
   ]
  },
  {
   "cell_type": "code",
   "execution_count": null,
   "metadata": {},
   "outputs": [],
   "source": [
    "print(newsgroups_test.target)"
   ]
  },
  {
   "cell_type": "code",
   "execution_count": null,
   "metadata": {},
   "outputs": [],
   "source": []
  }
 ],
 "metadata": {
  "kernelspec": {
   "display_name": "Python 3",
   "language": "python",
   "name": "python3"
  },
  "language_info": {
   "codemirror_mode": {
    "name": "ipython",
    "version": 3
   },
   "file_extension": ".py",
   "mimetype": "text/x-python",
   "name": "python",
   "nbconvert_exporter": "python",
   "pygments_lexer": "ipython3",
   "version": "3.6.7"
  }
 },
 "nbformat": 4,
 "nbformat_minor": 2
}
